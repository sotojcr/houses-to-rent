{
 "cells": [
  {
   "cell_type": "markdown",
   "metadata": {},
   "source": [
    "# Projeto 1\n",
    "### Analisando dados imobiliários\n",
    "\n",
    "- Este projeto será feito em grupo (squad) e a nota que o squad obtiver será a nota de cada aluno do squad;\n",
    "- Vocês começarão o projeto hoje e terão até o fim da aula de amanhã para concluí-lo;\n",
    "- O objetivo deste projeto é que vocês pratiquem o conteúdo visto até hoje, como listas, dicionários, leitura de arquivos, etc., e trabalhem em equipe;\n",
    "- Para ler os arquivos e fazer as análises, espera-se que vocês **não** utilizem bibliotecas como Pandas, Numpy ou qualquer outra que \"faça todo o trabalho\". Podem usar, no entanto, a math e a csv. A matplotlib será usada, mas a função já está construída: é só usar!\n",
    "- É permitida a consulta do material;\n",
    "- É necessário mostrar o código usado para responder todas as perguntas. Procure ser claro, comentando no código quando achar pertinente."
   ]
  },
  {
   "cell_type": "markdown",
   "metadata": {},
   "source": [
    "- Squad: Chevete\n",
    "- Alunos: Jeferson Bressan, Raphael Do Prado, Vinicius Lande, Weslley dos Santos"
   ]
  },
  {
   "cell_type": "markdown",
   "metadata": {
    "id": "fFSX5Qqs96vu"
   },
   "source": [
    "## Contexto\n",
    "Este conjunto de dados contem informações sobre aluguéis de casas/apartamentos em algumas cidades do Brasil. Esses dados foram coletados por um *webcrawler* do QuintoAndar. Sendo possível extrair informações a cerca do mercado imobiliário brasileiro.\n",
    "\n",
    "## Conteúdo\n",
    "Possui 10962 instâncias com 13 categorias. Este arquivo possui seus dados organizados pelas seguintes features:\n",
    "\n",
    "> **city**: cidade onde o imóvel está localizada\n",
    "\n",
    "> **area**: área do imóvel\n",
    "\n",
    "> **rooms**: número de quartos\n",
    "\n",
    "> **bathroom**: número de banheiros\n",
    "\n",
    "> **parking_spaces**: número de vagas de estacionamento\n",
    "\n",
    "> **floor**: andar no prédio\n",
    "\n",
    "> **animal**: aceita animais ou não? (`accept` vs `not accept`)\n",
    "\n",
    "> **furniture**: mobiliada ou não? (`furnished` vs `not furnished`)\n",
    "\n",
    "> **hoa (R$)**: valor do condomínio\n",
    "\n",
    "> **rent amount (R$)**: valor do aluguel\n",
    "\n",
    "> **property tax (R$)**: valor de IPTU\n",
    "\n",
    "> **fire insurance (R$)**: valor do seguro incêndio\n",
    "\n",
    "> **total (R$)**: valor total do aluguel do imóvel.\n",
    "\n",
    "## Reconhecimentos\n",
    "Esse dataset foi extraído do Kaggle (https://www.kaggle.com/rubenssjr/brasilian-houses-to-rent) e os dados foram retirados de informações disponíveis gratuitamente na internet e compilados na plataforma.\n",
    "\n",
    "## Tarefa\n",
    "Utilizando o arquivo fornecido faça a leitura dos dados e escreva um pequeno relatório respondendo as seguintes questões:\n",
    "\n",
    "> 1) Exiba todas as cidades contidas no dataset com o percentual de imóveis oferecidos que estão localizados nela. \n",
    "\n",
    "> 2) Descubra a média da área e do valor do aluguel dos imóveis para cada cidade contida no dataset. O que é possível concluir a partir desse resultado?\n",
    "\n",
    "> 3) Qual a diferença da média do valor total do aluguel entre imóveis já mobiliados e não mobiliados? \n",
    "\n",
    "> 4) Neste dataset, qual é a porcentagem do valor do condomínio no valor médio de aluguel total?\n",
    "\n",
    "> 5) Use a função `plot_grafico_barra()` e faça um gráfico de barra mostrando as cinco cidades com as maiores médias de aluguel total."
   ]
  },
  {
   "cell_type": "code",
   "execution_count": null,
   "metadata": {},
   "outputs": [],
   "source": [
    "!pip install matplotlib"
   ]
  },
  {
   "cell_type": "code",
   "execution_count": 32,
   "metadata": {
    "id": "Apry2yMaSQ5c"
   },
   "outputs": [],
   "source": [
    "import matplotlib.pyplot as plt\n",
    "\n",
    "def plot_grafico_barra(cidades, valores):\n",
    "    '''\n",
    "    Input:\n",
    "    cidades: é uma lista de strings com os nomes das cidades\n",
    "    valores: é uma lista de números com a média de aluguel para cada cidade.\n",
    "    Output:\n",
    "    Gera um gráfico de barra\n",
    "    '''\n",
    "    \n",
    "    plt.bar(cidades, valores)\n",
    "    plt.title('As 5 cidades com maior aluguel no Brasil')\n",
    "    plt.ylabel('Aluguel médio')\n",
    "    plt.show()"
   ]
  },
  {
   "cell_type": "code",
   "execution_count": 2,
   "metadata": {},
   "outputs": [],
   "source": [
    "import csv\n",
    "from collections import Counter"
   ]
  },
  {
   "cell_type": "code",
   "execution_count": 23,
   "metadata": {},
   "outputs": [],
   "source": [
    "arquivo = open('houses_to_rent_v2.csv', 'r', encoding='utf8')\n",
    "\n",
    "planilha = list(csv.reader(arquivo, delimiter=',', lineterminator='\\n'))\n",
    "\n",
    "arquivo.close()"
   ]
  },
  {
   "cell_type": "code",
   "execution_count": 24,
   "metadata": {},
   "outputs": [],
   "source": [
    "# Requisito do professor não utilizar a biblioteca Collections\n",
    "def counter(interavel):\n",
    "    dic = {}\n",
    "    for elemento in interavel:\n",
    "        qnt = interavel.count(elemento)\n",
    "        if not elemento in dic:\n",
    "            dic[elemento] = qnt\n",
    "    \n",
    "    return dic\n",
    "    "
   ]
  },
  {
   "cell_type": "code",
   "execution_count": 25,
   "metadata": {},
   "outputs": [
    {
     "name": "stdout",
     "output_type": "stream",
     "text": [
      "[('São Paulo', 55.06), ('Rio de Janeiro', 14.04), ('Belo Horizonte', 11.77), ('Porto Alegre', 11.16), ('Campinas', 7.98)]\n"
     ]
    }
   ],
   "source": [
    "# Questão 1: seu código abaixo\n",
    "cidades = [linha[0] for linha in planilha[1:len(planilha)]] \n",
    "total = len(cidades)\n",
    "\n",
    "imovel_por_cidade = counter(cidades) #Cria um dicionário com o total de imóveis por cidade\n",
    "\n",
    "porcentagem = {chave:round(((valor / total) * 100), 2) for chave, valor in imovel_por_cidade.items()} # gera o percentual por cidade\n",
    "\n",
    "porcentagem = sorted(porcentagem.items(), key=lambda porcentagem: porcentagem[1], reverse=True)\n",
    "\n",
    "print(porcentagem)"
   ]
  },
  {
   "cell_type": "code",
   "execution_count": 26,
   "metadata": {},
   "outputs": [],
   "source": [
    "def separa_cidade(cidade): \n",
    "    \"\"\"\n",
    "    função que faz uma lista somente com os imoveis da mesma cidade\n",
    "    \"\"\"\n",
    "    return [linha for linha in planilha if linha[0] == cidade]\n",
    "\n",
    "def captura_elemento(index, interavel): \n",
    "    \"\"\"\n",
    "    função que forma uma lista com os elementos na coluna definida em interáveis não aninhados\n",
    "    \"\"\"\n",
    "    return [float(linha[index]) for linha in interavel]"
   ]
  },
  {
   "cell_type": "code",
   "execution_count": null,
   "metadata": {},
   "outputs": [],
   "source": []
  },
  {
   "cell_type": "code",
   "execution_count": 27,
   "metadata": {},
   "outputs": [
    {
     "name": "stdout",
     "output_type": "stream",
     "text": [
      "{'Belo Horizonte': (207.41, 3664.13), 'Campinas': (137.56, 2364.29), 'Porto Alegre': (103.61, 2337.7), 'Rio de Janeiro': (105.35, 3232.9), 'São Paulo': (158.9, 4652.79)}\n"
     ]
    }
   ],
   "source": [
    "# Questão 2: seu código abaixo\n",
    "chaves = sorted(list(set(cidades))) # verifica as cidades presentes no csv sem repetição e põe em ordem alfabetica\n",
    "\n",
    "def calcula_media_areas(cidade, index=1):\n",
    "    dados_cidade = separa_cidade(cidade)\n",
    "    areas_cidade = captura_elemento(index, dados_cidade)\n",
    "\n",
    "    media = round(sum(areas_cidade) / len(areas_cidade), 2)\n",
    "    return media\n",
    "\n",
    "def calcula_media_alugueis(cidade, index=9):\n",
    "    dados_cidade = separa_cidade(cidade)\n",
    "    alugueis_cidade = captura_elemento(index, dados_cidade)\n",
    "\n",
    "    media = round(sum(alugueis_cidade) / len(alugueis_cidade), 2)\n",
    "    return media\n",
    "\n",
    "media_areas = list(map(calcula_media_areas, chaves))\n",
    "media_alugueis = list(map(calcula_media_alugueis, chaves))\n",
    "\n",
    "junta_valores = list(zip(media_areas, media_alugueis))\n",
    "\n",
    "area_aluguel_cidade = {}\n",
    "\n",
    "for i in range(len(chaves)):\n",
    "    area_aluguel_cidade[chaves[i]] = junta_valores[i]\n",
    "    \n",
    "print(area_aluguel_cidade)\n"
   ]
  },
  {
   "cell_type": "code",
   "execution_count": 28,
   "metadata": {},
   "outputs": [
    {
     "name": "stdout",
     "output_type": "stream",
     "text": [
      "{'Belo Horizonte': 17.67, 'Campinas': 17.19, 'Porto Alegre': 22.56, 'Rio de Janeiro': 30.69, 'São Paulo': 29.28}\n"
     ]
    }
   ],
   "source": [
    "valor_por_metro = {k:round(v[1] / v[0], 2) for k, v in area_aluguel_cidade.items()}\n",
    "    \n",
    "print(valor_por_metro)"
   ]
  },
  {
   "cell_type": "code",
   "execution_count": 29,
   "metadata": {},
   "outputs": [
    {
     "name": "stdout",
     "output_type": "stream",
     "text": [
      "O aluguel de imóveis mobiliados custa em média R$1450.57 a mais que os não mobiliados\n"
     ]
    }
   ],
   "source": [
    "# Questão 3: seu código abaixo\n",
    "def calcula_aluguel_total(mobilia):\n",
    "    imoveis = [linha for linha in planilha if linha[7] == mobilia]\n",
    "    aluguel_mobilia = [float(linha[12]) for linha in imoveis]\n",
    "    \n",
    "    media_aluguel = sum(aluguel_mobilia) / len(aluguel_mobilia)\n",
    "    \n",
    "    return media_aluguel\n",
    "\n",
    "mobiliado = calcula_aluguel_total('furnished')\n",
    "n_mobiliado = calcula_aluguel_total('not furnished')\n",
    "\n",
    "diferenca = round(mobiliado - n_mobiliado, 2)\n",
    "\n",
    "print(f'O aluguel de imóveis mobiliados custa em média R${diferenca} a mais que os não mobiliados')"
   ]
  },
  {
   "cell_type": "code",
   "execution_count": 34,
   "metadata": {},
   "outputs": [
    {
     "name": "stdout",
     "output_type": "stream",
     "text": [
      "O condominio custa em média 18.0% do aluguel total\n"
     ]
    }
   ],
   "source": [
    "# Questão 4: seu código abaixo\n",
    "\n",
    "porcentagens = [round(float(linha[8]) / float(linha[-1]) * 100, 2) #Calcula qual a porcentagem do valor do condominio\n",
    "                for linha in planilha[1:len(planilha)]]            #pelo aluguel total.\n",
    "\n",
    "media = sum(porcentagens) / len(porcentagens)\n",
    "\n",
    "print(f'O condominio custa em média {round(media, 2)}% do aluguel total')\n"
   ]
  },
  {
   "cell_type": "code",
   "execution_count": 33,
   "metadata": {},
   "outputs": [
    {
     "data": {
      "image/png": "[encoded data removed]",
      "text/plain": [
       "<Figure size 432x288 with 1 Axes>"
      ]
     },
     "metadata": {
      "needs_background": "light"
     },
     "output_type": "display_data"
    }
   ],
   "source": [
    "# Questão 5: seu código abaixo\n",
    "\n",
    "def calc_aluguel_total(cidade, index=12):\n",
    "    dados_cidade = separa_cidade(cidade)\n",
    "    separa_alugueis = captura_elemento(index, dados_cidade)\n",
    "\n",
    "    media = round(sum(separa_alugueis) / len(separa_alugueis), 2)\n",
    "    return media\n",
    "\n",
    "def plot_grafico_barra(cidades, valores):\n",
    "    '''\n",
    "    Input:\n",
    "    cidades: é uma lista de strings com os nomes das cidades\n",
    "    valores: é uma lista de números com a média de aluguel para cada cidade.\n",
    "    Output:\n",
    "    Gera um gráfico de barra\n",
    "    '''\n",
    "    \n",
    "    plt.bar(cidades, valores)\n",
    "    plt.title('As 5 cidades com maior aluguel no Brasil')\n",
    "    plt.ylabel('Aluguel médio')\n",
    "    plt.show()\n",
    "\n",
    "aluguel_total_cidade = list(map(calc_aluguel_total, chaves))\n",
    "\n",
    "plot_grafico_barra(chaves, aluguel_total_cidade)"
   ]
  },
  {
   "cell_type": "markdown",
   "metadata": {
    "id": "Fs43ptw6g74E"
   },
   "source": [
    "# Relatório\n",
    "\n",
    "Escreva aqui, em forma de texto corrido, um breve relatório explicando as respostas obtidas."
   ]
  },
  {
   "cell_type": "markdown",
   "metadata": {},
   "source": [
    "Temos um dataset de 10692 imóveis, distribuidos nas cidades de Belo Horizonte, Campinas, Porto Alegre, Rio de Janeiro e São Paulo, sendo mais de 50% da cidade de São Paulo. \n",
    "\n",
    "Os preços de aluguel por metro quadrado mais caros são os do Rio de Janeiro e São Paulo, seguidos por Porto Alegre, Belo Horizonte e Campinas.\n",
    "\n",
    "Também podemos concluir que o preço do aluguel de imóveis mobilhados é 28% mais caro do que de imóveis não mobilhados. E que o valor gasto em condomínio é 18% do aluguel total.\n",
    "\n"
   ]
  }
 ],
 "metadata": {
  "colab": {
   "name": "Projeto - Pi Data Science.ipynb",
   "provenance": []
  },
  "kernelspec": {
   "display_name": "Python 3",
   "language": "python",
   "name": "python3"
  },
  "language_info": {
   "codemirror_mode": {
    "name": "ipython",
    "version": 3
   },
   "file_extension": ".py",
   "mimetype": "text/x-python",
   "name": "python",
   "nbconvert_exporter": "python",
   "pygments_lexer": "ipython3",
   "version": "3.8.5"
  }
 },
 "nbformat": 4,
 "nbformat_minor": 1
}
